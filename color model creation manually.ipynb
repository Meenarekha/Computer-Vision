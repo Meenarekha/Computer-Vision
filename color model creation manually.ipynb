{
 "cells": [
  {
   "cell_type": "code",
   "execution_count": 8,
   "id": "af6bdc27-a2fa-4473-8d16-054b3cca9a87",
   "metadata": {},
   "outputs": [
    {
     "data": {
      "image/png": "[encoded data removed]",
      "text/plain": [
       "<Figure size 600x200 with 1 Axes>"
      ]
     },
     "metadata": {},
     "output_type": "display_data"
    }
   ],
   "source": [
    "import numpy as np\n",
    "import matplotlib.pyplot as plt\n",
    "\n",
    "# Step 1: Create a blank RGB matrix (100x100 pixels)\n",
    "height, width = 100, 100\n",
    "rgb_image = np.zeros((height, width, 3), dtype=np.uint8)\n",
    "\n",
    "# Step 2: Manually assign color values\n",
    "# Fill the first third with Red\n",
    "rgb_image[0:height, 0:int(width/3), 0] = 235 # Red channel\n",
    "\n",
    "# Fill the second third with Green\n",
    "rgb_image[0:height, int(width/3):int(2*width/3), 1] = 34 # Green channel\n",
    "\n",
    "# Fill the last third with Blue\n",
    "rgb_image[0:height, int(2*width/3):width, 2] = 130  # Blue channel\n",
    "\n",
    "# Step 3: Display the RGB color model\n",
    "plt.figure(figsize=(6, 2))\n",
    "plt.title('Color Model')\n",
    "plt.imshow(rgb_image)\n",
    "plt.axis('off')  # Hide axes\n",
    "plt.show()"
   ]
  },
  {
   "cell_type": "code",
   "execution_count": null,
   "id": "d33ca296-fa43-46f1-950b-6980f73ceca5",
   "metadata": {},
   "outputs": [],
   "source": []
  }
 ],
 "metadata": {
  "kernelspec": {
   "display_name": "Python 3 (ipykernel)",
   "language": "python",
   "name": "python3"
  },
  "language_info": {
   "codemirror_mode": {
    "name": "ipython",
    "version": 3
   },
   "file_extension": ".py",
   "mimetype": "text/x-python",
   "name": "python",
   "nbconvert_exporter": "python",
   "pygments_lexer": "ipython3",
   "version": "3.11.11"
  }
 },
 "nbformat": 4,
 "nbformat_minor": 5
}
